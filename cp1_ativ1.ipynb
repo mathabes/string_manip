{
 "cells": [
  {
   "cell_type": "markdown",
   "metadata": {},
   "source": [
    "# Subalgoritmos\n",
    "### Função 1"
   ]
  },
  {
   "cell_type": "code",
   "execution_count": null,
   "metadata": {},
   "outputs": [],
   "source": [
    "def converte_vogais_maiusculo(frase) -> str:\n",
    "    for elem in frase:\n",
    "        if elem == 'a':\n",
    "            frase = frase.replace('a', 'A')\n",
    "        if elem == 'e':\n",
    "            frase = frase.replace('e', 'E')\n",
    "        if elem == 'i':\n",
    "            frase = frase.replace('i', 'I')\n",
    "        if elem == 'o':\n",
    "            frase = frase.replace('o', 'O')\n",
    "        if elem == 'u':\n",
    "            frase = frase.replace('u', 'U')\n",
    "    return frase"
   ]
  },
  {
   "cell_type": "markdown",
   "metadata": {},
   "source": [
    "### Função 2"
   ]
  },
  {
   "cell_type": "code",
   "execution_count": null,
   "metadata": {},
   "outputs": [],
   "source": [
    "def isfloat(valor) -> bool:\n",
    "    if valor.replace('.', '0', 1).isnumeric():\n",
    "        return True\n",
    "    else:\n",
    "        return False"
   ]
  },
  {
   "cell_type": "markdown",
   "metadata": {},
   "source": [
    "# Programa Principal"
   ]
  },
  {
   "cell_type": "code",
   "execution_count": null,
   "metadata": {},
   "outputs": [],
   "source": [
    "escolha_menu = 5\n",
    "while escolha_menu != 0:\n",
    "    print(\"\"\"\n",
    "0 - SAIR\n",
    "1 - Converte vogais\n",
    "2 - Verifica se é float\n",
    "\"\"\")\n",
    "    while True:\n",
    "        try:\n",
    "            print(\"Opção: \", end=\"\")\n",
    "            escolha_menu = int(input(\"Opção: \"))\n",
    "            print(escolha_menu)\n",
    "            break\n",
    "        except ValueError:\n",
    "            print(\"Digite uma opção válida!!\")\n",
    "            continue\n",
    "    match escolha_menu:\n",
    "        case 0:\n",
    "            break\n",
    "        case 1:\n",
    "            print(\"\\nDigite um texto: \", end=\"\")\n",
    "            resp1 = input(\"Digite um texto: \")\n",
    "            print(resp1)\n",
    "            print(converte_vogais_maiusculo(resp1))\n",
    "        case 2:\n",
    "            print(\"\\nDigite um valor: \", end=\"\")\n",
    "            resp2 = input(\"Digite um valor: \")\n",
    "            print(resp2)\n",
    "            if isfloat(resp2) is True:\n",
    "                print(\"Este valor é float.\")\n",
    "            else:\n",
    "                print(\"Este valor não é float.\")\n",
    "        case _:\n",
    "            print(\"Digite uma opção válida!!\")"
   ]
  }
 ],
 "metadata": {
  "kernelspec": {
   "display_name": "Python 3",
   "language": "python",
   "name": "python3"
  },
  "language_info": {
   "codemirror_mode": {
    "name": "ipython",
    "version": 3
   },
   "file_extension": ".py",
   "mimetype": "text/x-python",
   "name": "python",
   "nbconvert_exporter": "python",
   "pygments_lexer": "ipython3",
   "version": "3.10.10"
  },
  "orig_nbformat": 4
 },
 "nbformat": 4,
 "nbformat_minor": 2
}
